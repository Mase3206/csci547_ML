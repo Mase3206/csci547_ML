{
  "cells": [
    {
      "cell_type": "markdown",
      "metadata": {
        "id": "view-in-github",
        "colab_type": "text"
      },
      "source": [
        "<a href=\"https://colab.research.google.com/github/lucywowen/csci547_ML/blob/main/examples/lasso_collinearity_hack.ipynb\" target=\"_parent\"><img src=\"https://colab.research.google.com/assets/colab-badge.svg\" alt=\"Open In Colab\"/></a>"
      ]
    },
    {
      "cell_type": "markdown",
      "metadata": {
        "id": "A_cDqp52QWJl"
      },
      "source": [
        "# LASSO vs Collinearity: A Hands‑On Demo\n",
        "\n",
        "**Goal:** Show that with two highly collinear predictors, LASSO will often set one coefficient to exactly 0 (and which one gets dropped can flip with tiny data changes), while Ridge shrinks but typically keeps both nonzero.\n",
        "\n",
        "**What you'll do:**\n",
        "1. Generate synthetic data where `X2 ≈ X1` (strong collinearity) and the target is `y = 3·X1 + 2·X3 + noise`. (I'll provide you some code).\n",
        "2. Fit LASSO across a range of α values and pick a sparse solution with exactly two non‑zero coefficients.\n",
        "3. Plot the LASSO coefficient paths vs `log10(alpha)` to visualize when coefficients enter/leave the model.\n",
        "4. Compare to Ridge (no exact zeros).\n",
        "5. Repeat the experiment across many random seeds to **demonstrate arbitrariness** in which collinear feature survives.\n",
        "\n",
        "\n"
      ],
      "id": "A_cDqp52QWJl"
    },
    {
      "cell_type": "code",
      "execution_count": null,
      "metadata": {
        "colab": {
          "base_uri": "https://localhost:8080/"
        },
        "id": "NfjIi62RQWJm",
        "outputId": "c96199c3-e34e-4cb5-a8a2-93febf670422"
      },
      "outputs": [
        {
          "output_type": "stream",
          "name": "stdout",
          "text": [
            "Libraries imported.\n"
          ]
        }
      ],
      "source": [
        "import numpy as np\n",
        "import pandas as pd\n",
        "import matplotlib.pyplot as plt\n",
        "from pathlib import Path\n",
        "from zipfile import ZipFile, ZIP_DEFLATED\n",
        "from IPython.display import display\n",
        "\n",
        "from sklearn.preprocessing import StandardScaler\n",
        "from sklearn.pipeline import Pipeline\n",
        "from sklearn.linear_model import Lasso, Ridge, lasso_path\n",
        "\n",
        "plt.rcParams.update({\"figure.dpi\": 144})"
      ],
      "id": "NfjIi62RQWJm"
    },
    {
      "cell_type": "markdown",
      "metadata": {
        "id": "FijTvNwgQWJn"
      },
      "source": [
        "## 1) Generate a dataset with two highly collinear features\n",
        "Here I've made `X2 = X1 + ε` where `ε ~ N(0, σ²)` with a **small** σ to induce strong collinearity.\n",
        "\n",
        "TO DO: Plot the correlations of the features as a heatmap.  "
      ],
      "id": "FijTvNwgQWJn"
    },
    {
      "cell_type": "code",
      "execution_count": null,
      "metadata": {
        "colab": {
          "base_uri": "https://localhost:8080/",
          "height": 179
        },
        "id": "eThpGMRZQWJn",
        "outputId": "a3a5d710-1d0c-4644-d6d7-7ab913c18b15"
      },
      "outputs": [
        {
          "output_type": "stream",
          "name": "stdout",
          "text": [
            "\n",
            "Correlation among predictors (expect X1≈X2):\n"
          ]
        },
        {
          "output_type": "display_data",
          "data": {
            "text/plain": [
              "          X1        X2        X3\n",
              "X1  1.000000  0.999762 -0.072945\n",
              "X2  0.999762  1.000000 -0.075797\n",
              "X3 -0.072945 -0.075797  1.000000"
            ],
            "text/html": [
              "\n",
              "  <div id=\"df-8daecf7c-5598-4798-ae89-e91023f5954a\" class=\"colab-df-container\">\n",
              "    <div>\n",
              "<style scoped>\n",
              "    .dataframe tbody tr th:only-of-type {\n",
              "        vertical-align: middle;\n",
              "    }\n",
              "\n",
              "    .dataframe tbody tr th {\n",
              "        vertical-align: top;\n",
              "    }\n",
              "\n",
              "    .dataframe thead th {\n",
              "        text-align: right;\n",
              "    }\n",
              "</style>\n",
              "<table border=\"1\" class=\"dataframe\">\n",
              "  <thead>\n",
              "    <tr style=\"text-align: right;\">\n",
              "      <th></th>\n",
              "      <th>X1</th>\n",
              "      <th>X2</th>\n",
              "      <th>X3</th>\n",
              "    </tr>\n",
              "  </thead>\n",
              "  <tbody>\n",
              "    <tr>\n",
              "      <th>X1</th>\n",
              "      <td>1.000000</td>\n",
              "      <td>0.999762</td>\n",
              "      <td>-0.072945</td>\n",
              "    </tr>\n",
              "    <tr>\n",
              "      <th>X2</th>\n",
              "      <td>0.999762</td>\n",
              "      <td>1.000000</td>\n",
              "      <td>-0.075797</td>\n",
              "    </tr>\n",
              "    <tr>\n",
              "      <th>X3</th>\n",
              "      <td>-0.072945</td>\n",
              "      <td>-0.075797</td>\n",
              "      <td>1.000000</td>\n",
              "    </tr>\n",
              "  </tbody>\n",
              "</table>\n",
              "</div>\n",
              "    <div class=\"colab-df-buttons\">\n",
              "\n",
              "  <div class=\"colab-df-container\">\n",
              "    <button class=\"colab-df-convert\" onclick=\"convertToInteractive('df-8daecf7c-5598-4798-ae89-e91023f5954a')\"\n",
              "            title=\"Convert this dataframe to an interactive table.\"\n",
              "            style=\"display:none;\">\n",
              "\n",
              "  <svg xmlns=\"http://www.w3.org/2000/svg\" height=\"24px\" viewBox=\"0 -960 960 960\">\n",
              "    <path d=\"M120-120v-720h720v720H120Zm60-500h600v-160H180v160Zm220 220h160v-160H400v160Zm0 220h160v-160H400v160ZM180-400h160v-160H180v160Zm440 0h160v-160H620v160ZM180-180h160v-160H180v160Zm440 0h160v-160H620v160Z\"/>\n",
              "  </svg>\n",
              "    </button>\n",
              "\n",
              "  <style>\n",
              "    .colab-df-container {\n",
              "      display:flex;\n",
              "      gap: 12px;\n",
              "    }\n",
              "\n",
              "    .colab-df-convert {\n",
              "      background-color: #E8F0FE;\n",
              "      border: none;\n",
              "      border-radius: 50%;\n",
              "      cursor: pointer;\n",
              "      display: none;\n",
              "      fill: #1967D2;\n",
              "      height: 32px;\n",
              "      padding: 0 0 0 0;\n",
              "      width: 32px;\n",
              "    }\n",
              "\n",
              "    .colab-df-convert:hover {\n",
              "      background-color: #E2EBFA;\n",
              "      box-shadow: 0px 1px 2px rgba(60, 64, 67, 0.3), 0px 1px 3px 1px rgba(60, 64, 67, 0.15);\n",
              "      fill: #174EA6;\n",
              "    }\n",
              "\n",
              "    .colab-df-buttons div {\n",
              "      margin-bottom: 4px;\n",
              "    }\n",
              "\n",
              "    [theme=dark] .colab-df-convert {\n",
              "      background-color: #3B4455;\n",
              "      fill: #D2E3FC;\n",
              "    }\n",
              "\n",
              "    [theme=dark] .colab-df-convert:hover {\n",
              "      background-color: #434B5C;\n",
              "      box-shadow: 0px 1px 3px 1px rgba(0, 0, 0, 0.15);\n",
              "      filter: drop-shadow(0px 1px 2px rgba(0, 0, 0, 0.3));\n",
              "      fill: #FFFFFF;\n",
              "    }\n",
              "  </style>\n",
              "\n",
              "    <script>\n",
              "      const buttonEl =\n",
              "        document.querySelector('#df-8daecf7c-5598-4798-ae89-e91023f5954a button.colab-df-convert');\n",
              "      buttonEl.style.display =\n",
              "        google.colab.kernel.accessAllowed ? 'block' : 'none';\n",
              "\n",
              "      async function convertToInteractive(key) {\n",
              "        const element = document.querySelector('#df-8daecf7c-5598-4798-ae89-e91023f5954a');\n",
              "        const dataTable =\n",
              "          await google.colab.kernel.invokeFunction('convertToInteractive',\n",
              "                                                    [key], {});\n",
              "        if (!dataTable) return;\n",
              "\n",
              "        const docLinkHtml = 'Like what you see? Visit the ' +\n",
              "          '<a target=\"_blank\" href=https://colab.research.google.com/notebooks/data_table.ipynb>data table notebook</a>'\n",
              "          + ' to learn more about interactive tables.';\n",
              "        element.innerHTML = '';\n",
              "        dataTable['output_type'] = 'display_data';\n",
              "        await google.colab.output.renderOutput(dataTable, element);\n",
              "        const docLink = document.createElement('div');\n",
              "        docLink.innerHTML = docLinkHtml;\n",
              "        element.appendChild(docLink);\n",
              "      }\n",
              "    </script>\n",
              "  </div>\n",
              "\n",
              "\n",
              "    <div id=\"df-d9b21636-3413-4456-b694-8e729418fdd9\">\n",
              "      <button class=\"colab-df-quickchart\" onclick=\"quickchart('df-d9b21636-3413-4456-b694-8e729418fdd9')\"\n",
              "                title=\"Suggest charts\"\n",
              "                style=\"display:none;\">\n",
              "\n",
              "<svg xmlns=\"http://www.w3.org/2000/svg\" height=\"24px\"viewBox=\"0 0 24 24\"\n",
              "     width=\"24px\">\n",
              "    <g>\n",
              "        <path d=\"M19 3H5c-1.1 0-2 .9-2 2v14c0 1.1.9 2 2 2h14c1.1 0 2-.9 2-2V5c0-1.1-.9-2-2-2zM9 17H7v-7h2v7zm4 0h-2V7h2v10zm4 0h-2v-4h2v4z\"/>\n",
              "    </g>\n",
              "</svg>\n",
              "      </button>\n",
              "\n",
              "<style>\n",
              "  .colab-df-quickchart {\n",
              "      --bg-color: #E8F0FE;\n",
              "      --fill-color: #1967D2;\n",
              "      --hover-bg-color: #E2EBFA;\n",
              "      --hover-fill-color: #174EA6;\n",
              "      --disabled-fill-color: #AAA;\n",
              "      --disabled-bg-color: #DDD;\n",
              "  }\n",
              "\n",
              "  [theme=dark] .colab-df-quickchart {\n",
              "      --bg-color: #3B4455;\n",
              "      --fill-color: #D2E3FC;\n",
              "      --hover-bg-color: #434B5C;\n",
              "      --hover-fill-color: #FFFFFF;\n",
              "      --disabled-bg-color: #3B4455;\n",
              "      --disabled-fill-color: #666;\n",
              "  }\n",
              "\n",
              "  .colab-df-quickchart {\n",
              "    background-color: var(--bg-color);\n",
              "    border: none;\n",
              "    border-radius: 50%;\n",
              "    cursor: pointer;\n",
              "    display: none;\n",
              "    fill: var(--fill-color);\n",
              "    height: 32px;\n",
              "    padding: 0;\n",
              "    width: 32px;\n",
              "  }\n",
              "\n",
              "  .colab-df-quickchart:hover {\n",
              "    background-color: var(--hover-bg-color);\n",
              "    box-shadow: 0 1px 2px rgba(60, 64, 67, 0.3), 0 1px 3px 1px rgba(60, 64, 67, 0.15);\n",
              "    fill: var(--button-hover-fill-color);\n",
              "  }\n",
              "\n",
              "  .colab-df-quickchart-complete:disabled,\n",
              "  .colab-df-quickchart-complete:disabled:hover {\n",
              "    background-color: var(--disabled-bg-color);\n",
              "    fill: var(--disabled-fill-color);\n",
              "    box-shadow: none;\n",
              "  }\n",
              "\n",
              "  .colab-df-spinner {\n",
              "    border: 2px solid var(--fill-color);\n",
              "    border-color: transparent;\n",
              "    border-bottom-color: var(--fill-color);\n",
              "    animation:\n",
              "      spin 1s steps(1) infinite;\n",
              "  }\n",
              "\n",
              "  @keyframes spin {\n",
              "    0% {\n",
              "      border-color: transparent;\n",
              "      border-bottom-color: var(--fill-color);\n",
              "      border-left-color: var(--fill-color);\n",
              "    }\n",
              "    20% {\n",
              "      border-color: transparent;\n",
              "      border-left-color: var(--fill-color);\n",
              "      border-top-color: var(--fill-color);\n",
              "    }\n",
              "    30% {\n",
              "      border-color: transparent;\n",
              "      border-left-color: var(--fill-color);\n",
              "      border-top-color: var(--fill-color);\n",
              "      border-right-color: var(--fill-color);\n",
              "    }\n",
              "    40% {\n",
              "      border-color: transparent;\n",
              "      border-right-color: var(--fill-color);\n",
              "      border-top-color: var(--fill-color);\n",
              "    }\n",
              "    60% {\n",
              "      border-color: transparent;\n",
              "      border-right-color: var(--fill-color);\n",
              "    }\n",
              "    80% {\n",
              "      border-color: transparent;\n",
              "      border-right-color: var(--fill-color);\n",
              "      border-bottom-color: var(--fill-color);\n",
              "    }\n",
              "    90% {\n",
              "      border-color: transparent;\n",
              "      border-bottom-color: var(--fill-color);\n",
              "    }\n",
              "  }\n",
              "</style>\n",
              "\n",
              "      <script>\n",
              "        async function quickchart(key) {\n",
              "          const quickchartButtonEl =\n",
              "            document.querySelector('#' + key + ' button');\n",
              "          quickchartButtonEl.disabled = true;  // To prevent multiple clicks.\n",
              "          quickchartButtonEl.classList.add('colab-df-spinner');\n",
              "          try {\n",
              "            const charts = await google.colab.kernel.invokeFunction(\n",
              "                'suggestCharts', [key], {});\n",
              "          } catch (error) {\n",
              "            console.error('Error during call to suggestCharts:', error);\n",
              "          }\n",
              "          quickchartButtonEl.classList.remove('colab-df-spinner');\n",
              "          quickchartButtonEl.classList.add('colab-df-quickchart-complete');\n",
              "        }\n",
              "        (() => {\n",
              "          let quickchartButtonEl =\n",
              "            document.querySelector('#df-d9b21636-3413-4456-b694-8e729418fdd9 button');\n",
              "          quickchartButtonEl.style.display =\n",
              "            google.colab.kernel.accessAllowed ? 'block' : 'none';\n",
              "        })();\n",
              "      </script>\n",
              "    </div>\n",
              "\n",
              "    </div>\n",
              "  </div>\n"
            ],
            "application/vnd.google.colaboratory.intrinsic+json": {
              "type": "dataframe",
              "summary": "{\n  \"name\": \"display(df[[\\\"X1\\\",\\\"X2\\\",\\\"X3\\\"]]\",\n  \"rows\": 3,\n  \"fields\": [\n    {\n      \"column\": \"X1\",\n      \"properties\": {\n        \"dtype\": \"number\",\n        \"std\": 0.6193964070631066,\n        \"min\": -0.07294515951650826,\n        \"max\": 1.0,\n        \"num_unique_values\": 3,\n        \"samples\": [\n          1.0,\n          0.9997617353975627,\n          -0.07294515951650826\n        ],\n        \"semantic_type\": \"\",\n        \"description\": \"\"\n      }\n    },\n    {\n      \"column\": \"X2\",\n      \"properties\": {\n        \"dtype\": \"number\",\n        \"std\": 0.6210428447594866,\n        \"min\": -0.07579687331074211,\n        \"max\": 1.0,\n        \"num_unique_values\": 3,\n        \"samples\": [\n          0.9997617353975627,\n          1.0,\n          -0.07579687331074211\n        ],\n        \"semantic_type\": \"\",\n        \"description\": \"\"\n      }\n    },\n    {\n      \"column\": \"X3\",\n      \"properties\": {\n        \"dtype\": \"number\",\n        \"std\": 0.6202900343423549,\n        \"min\": -0.07579687331074211,\n        \"max\": 1.0,\n        \"num_unique_values\": 3,\n        \"samples\": [\n          -0.07294515951650826,\n          -0.07579687331074211,\n          1.0\n        ],\n        \"semantic_type\": \"\",\n        \"description\": \"\"\n      }\n    }\n  ]\n}"
            }
          },
          "metadata": {}
        }
      ],
      "source": [
        "# Parameters you can tweak\n",
        "SEED = 42\n",
        "N = 300\n",
        "COLLINEAR_NOISE = 0.02   # smaller -> stronger collinearity between X1 and X2\n",
        "Y_NOISE = 1.0\n",
        "\n",
        "rng = np.random.default_rng(SEED)\n",
        "X1 = rng.normal(size=N)\n",
        "X2 = X1 + rng.normal(scale=COLLINEAR_NOISE, size=N)\n",
        "X3 = rng.normal(size=N)\n",
        "y  = 3.0*X1 + 2.0*X3 + rng.normal(scale=Y_NOISE, size=N)\n",
        "\n",
        "df = pd.DataFrame({\"X1\": X1, \"X2\": X2, \"X3\": X3, \"y\": y})\n",
        "\n",
        "print(\"\\nCorrelation among predictors (expect X1≈X2):\")\n",
        "display(df[[\"X1\",\"X2\",\"X3\"]].corr())"
      ],
      "id": "eThpGMRZQWJn"
    },
    {
      "cell_type": "code",
      "source": [
        "### Heatmap here"
      ],
      "metadata": {
        "id": "20hwo9WifIBU"
      },
      "id": "20hwo9WifIBU",
      "execution_count": null,
      "outputs": []
    },
    {
      "cell_type": "markdown",
      "metadata": {
        "id": "lJZN3LqRQWJn"
      },
      "source": [
        "## 2) LASSO sweep over α to find a model with exactly 2 non‑zero coefficients\n",
        "Ok! Here I have some sample code using one value of α and extracting the feature coefficients.  \n",
        "\n",
        "TO DO: Now let's sweep over different values of α.  Try using [.00001, .0001, .001, .01, .1, 1] to start, and the goal of the search is trying to find an α with exactly two non‑zero coefficients (ideally `X3` plus one of `X1` or `X2`).\n",
        "What value of α do you get?"
      ],
      "id": "lJZN3LqRQWJn"
    },
    {
      "cell_type": "code",
      "source": [
        "X = df[[\"X1\",\"X2\",\"X3\"]].values\n",
        "y_arr = df[\"y\"].values\n",
        "\n",
        "pipe = Pipeline([\n",
        "    (\"scaler\", StandardScaler()),\n",
        "    (\"lasso\", Lasso(alpha=.001, fit_intercept=True, max_iter=20000, tol=1e-6, random_state=0))\n",
        "])\n",
        "\n",
        "pipe.fit(X, y_arr)\n",
        "coefs = pipe.named_steps[\"lasso\"].coef_\n",
        "print(coefs)"
      ],
      "metadata": {
        "colab": {
          "base_uri": "https://localhost:8080/"
        },
        "id": "BOHP3QKMbyoG",
        "outputId": "df0f6af2-c87e-489c-b44f-b04cd167ce93"
      },
      "id": "BOHP3QKMbyoG",
      "execution_count": null,
      "outputs": [
        {
          "output_type": "stream",
          "name": "stdout",
          "text": [
            "[ 3.22749009 -0.41467568  2.05242318]\n"
          ]
        }
      ]
    },
    {
      "cell_type": "code",
      "source": [
        "### Your turn!"
      ],
      "metadata": {
        "id": "iZmUVRNlfFrs"
      },
      "id": "iZmUVRNlfFrs",
      "execution_count": null,
      "outputs": []
    },
    {
      "cell_type": "markdown",
      "metadata": {
        "id": "xhkUWwZdQWJn"
      },
      "source": [
        "## 3) LASSO coefficient paths\n",
        "TO DO: Track (plot) how each coefficient changes along the regularization path. With `X1` and `X2` collinear, one of them will typically be driven to **exactly zero** for sufficiently large α.\n",
        "\n",
        "Hint: You can use the same alpha values: [.000001, .00001, .0001, .001, .01, .1, 1] but the plot will be much neater if you use `plt.xscale('log')`."
      ],
      "id": "xhkUWwZdQWJn"
    },
    {
      "cell_type": "code",
      "execution_count": 1,
      "metadata": {
        "id": "VLIhv8ulQWJn"
      },
      "outputs": [],
      "source": [
        "### Plot coefficients across alphas"
      ],
      "id": "VLIhv8ulQWJn"
    },
    {
      "cell_type": "markdown",
      "metadata": {
        "id": "EzEAlLV-QWJn"
      },
      "source": [
        "## 4) Ridge comparison\n",
        "TO DO: Complare these coefficients to Ridge.  Remember, Ridge regularization (L2) shrinks coefficients but rarely sets them to **exactly** zero, even with strong collinearity."
      ],
      "id": "EzEAlLV-QWJn"
    },
    {
      "cell_type": "code",
      "source": [
        "### What's the output using Ridge?"
      ],
      "metadata": {
        "id": "9LjmB-3sfWdH"
      },
      "id": "9LjmB-3sfWdH",
      "execution_count": null,
      "outputs": []
    },
    {
      "cell_type": "markdown",
      "metadata": {
        "id": "uEod85kOQWJo"
      },
      "source": [
        "## 5) Repeat across many seeds to show arbitrariness\n",
        "Ok now we get to the big thing!  Let's regenerate the dataset with different random seeds and fit a LASSO model for each. We then count how often `X1` survives vs `X2` (or both/neither). Plot correlations between the features as a heatmap and plot the alpha path. Go for it!"
      ],
      "id": "uEod85kOQWJo"
    },
    {
      "cell_type": "code",
      "execution_count": null,
      "metadata": {
        "id": "bg3KrLHUQWJo"
      },
      "outputs": [],
      "source": [
        "N_SEEDS = 10\n",
        "records = []\n",
        "for seed in range(N_SEEDS):\n",
        "    ### You got this!!\n",
        "\n",
        ""
      ],
      "id": "bg3KrLHUQWJo"
    },
    {
      "cell_type": "markdown",
      "source": [
        "## 6) Bonus! Elastic Net: bridging LASSO and Ridge\n",
        "\n",
        "Elastic Net combines L1 and L2 penalties. The mixing parameter `l1_ratio` controls the blend:\n",
        "- `l1_ratio = 1` → pure **LASSO** (L1)\n",
        "- `l1_ratio = 0` → pure **Ridge** (L2)\n",
        "\n",
        "With highly collinear features, Elastic Net often shows a **grouping effect**: correlated predictors tend to be selected together more readily than with pure LASSO. Below, try to (a) pick `alpha` and `l1_ratio` using cross‑validation, (b) visualize Elastic Net coefficient paths for a few `l1_ratio` values, and (c) compare CV‑selected coefficients for Ridge, LASSO, and Elastic Net.\n"
      ],
      "metadata": {
        "id": "nYL4BIiOfymb"
      },
      "id": "nYL4BIiOfymb"
    },
    {
      "cell_type": "code",
      "source": [],
      "metadata": {
        "id": "rNABhdXsgmz0"
      },
      "id": "rNABhdXsgmz0",
      "execution_count": null,
      "outputs": []
    },
    {
      "cell_type": "code",
      "source": [
        "### Try using elastic net and see what happens!"
      ],
      "metadata": {
        "id": "L5LjBlG3fx4o"
      },
      "id": "L5LjBlG3fx4o",
      "execution_count": null,
      "outputs": []
    },
    {
      "cell_type": "markdown",
      "metadata": {
        "id": "7iRkZ4DMQWJo"
      },
      "source": [
        "## Discussion\n",
        "- **LASSO (L1)** promotes sparsity by adding an \\(L_1\\) penalty; under strong collinearity, multiple solutions give similar fit quality, so the penalty can **select one feature and zero out its twin**. Tiny data changes can flip which one survives.\n",
        "- **Ridge (L2)** shares weight across collinear features—**shrinks** them but rarely makes them **exactly 0**.\n",
        "- The path plot connects this intuition visually: as α increases, one of the collinear coefficients is pushed to 0 while the other remains.\n",
        "- **Knobs to turn:**\n",
        "  - Increase/decrease `COLLINEAR_NOISE` to strengthen/relax collinearity.\n",
        "  - Try different α ranges or selection rules.\n",
        "  - Add more redundant predictors to show LASSO picking a subset.\n"
      ],
      "id": "7iRkZ4DMQWJo"
    },
    {
      "cell_type": "code",
      "source": [],
      "metadata": {
        "id": "RPQgJHzrU-Oj"
      },
      "id": "RPQgJHzrU-Oj",
      "execution_count": null,
      "outputs": []
    }
  ],
  "metadata": {
    "kernelspec": {
      "display_name": "Python 3",
      "language": "python",
      "name": "python3"
    },
    "language_info": {
      "name": "python",
      "pygments_lexer": "ipython3"
    },
    "colab": {
      "provenance": [],
      "include_colab_link": true
    }
  },
  "nbformat": 4,
  "nbformat_minor": 5
}
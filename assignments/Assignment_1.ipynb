{
 "cells": [
  {
   "cell_type": "raw",
   "metadata": {},
   "source": [
    "---\n",
    "title: Assignment 1 - Probability, Linear Algebra, & Computational Programming\n",
    "date: 2025-09-14\n",
    "\n",
    "execute: \n",
    "  enabled: false\n",
    "---"
   ]
  },
  {
   "cell_type": "markdown",
   "metadata": {},
   "source": [
    "---\n",
    "\n",
    "NetID: nr207489\n",
    "\n",
    "::: {.callout-note}\n",
    "This assignment falls under collaboration Mode 2: Individual Assignment – Collaboration Permitted. Please refer to the [syllabus on Canvas](https://canvas.umt.edu/courses/21767/assignments/syllabus) for additional information.\n",
    ":::"
   ]
  },
  {
   "cell_type": "markdown",
   "metadata": {},
   "source": [
    "Instructions for all assignments can be found [here](https://github.com/kylebradbury/ids705/blob/master/assignments/_Assignment%20Instructions.ipynb), and is also linked to from the [course syllabus](https://kylebradbury.github.io/ids705/index.html).\n",
    "\n",
    "Total points in the assignment add up to 90; an additional 10 points are allocated to presentation quality."
   ]
  },
  {
   "cell_type": "markdown",
   "metadata": {},
   "source": [
    "#  Learning Objectives\n",
    "The purpose of this assignment is to provide a refresher on fundamental concepts that we will use throughout this course, and provide an opportunity to develop skills in any of the related skills that may be unfamiliar to you. Through the course of completing this assignment, you will... \n",
    "- Refresh you knowledge of probability theory including properties of random variables, probability density functions,  cumulative distribution functions, and key statistics such as mean and variance.\n",
    "- Revisit common linear algebra and matrix operations and concepts such as matrix multiplication, inner and outer products, inverses, the Hadamard (element-wise) product, eigenvalues and eigenvectors, orthogonality, and symmetry.\n",
    "- Practice numerical programming, core to machine learning, by loading and filtering data, plotting data, vectorizing operations, profiling code speed, and debugging and optimizing performance. You will also practice computing probabilities based on simulation.\n",
    "- Develop or refresh your knowledge of Git version control, which will be a core tool used in the final project of this course\n",
    "- Apply your skills altogether through an exploratory data analysis to practice data cleaning, data manipulation, interpretation, and communication \n",
    "\n",
    "We will build on these concepts throughout the course, so use this assignment as a catalyst to deepen your knowledge and seek help with anything that is unfamiliar.\n",
    "\n",
    "Just know... this is supposed to be a hard assignment!  Try your best and allow for enough time to finish."
   ]
  },
  {
   "cell_type": "markdown",
   "metadata": {},
   "source": [
    "# Probability and Statistics Theory"
   ]
  },
  {
   "cell_type": "markdown",
   "metadata": {},
   "source": [
    "*Note: for all assignments, write out all equations and math using markdown and [LaTeX](https://tobi.oetiker.ch/lshort/lshort.pdf). For this assignment show ALL math work*"
   ]
  },
  {
   "cell_type": "markdown",
   "metadata": {},
   "source": [
    "## 1\n",
    "**[3 points]**  \n",
    "Let $f(x) = \\begin{cases}\n",
    "                0           & x < 0  \\\\\n",
    "                \\alpha x^2  & 0 \\leq x \\leq 2 \\\\\n",
    "                0           & 2 < x\n",
    "            \\end{cases}$\n",
    "            \n",
    "For what value of $\\alpha$ is $f(x)$ a valid probability density function?"
   ]
  },
  {
   "cell_type": "markdown",
   "metadata": {},
   "source": [
    "**ANSWER**\n",
    "\n",
    "A function is a valid probability density function if and only if it:\n",
    "\n",
    "1. Is positive over all $x$, and\n",
    "2. has an indefinite integral equal to 1.\n",
    "\n",
    "Because $x^2$ is always positive, Condition 1 is satisfied. Condition 2, if we change the indefinite integral to a definite one over $[0,2]$ (which will still have the same value), allows us to find the value of $\\alpha$ by solving for $\\alpha$ in $1 = \\int_0^2 {\\alpha x^2} \\text{d}x$:\n",
    "\n",
    "\\begin{alignat}{1}\n",
    "    1 &= \\int_0^2 {\\alpha x^2} \\text{d}x  \\\\[2mm]\n",
    "      &= \\alpha \\int_0^2 {x^2} \\text{d}x  \\\\[2mm]\n",
    "      &= \\alpha {\\left(\\left. \\frac13 x^3 \\right|\\right.}_0^2  \\\\[2mm]\n",
    "    1 &= \\alpha \\left(\\frac83\\right)  \\\\[2mm]\n",
    "    \\alpha &= \\frac38\n",
    "\\end{alignat}\n",
    "\n",
    "Therefore, $f(x)$ is a valid probability density function when $\\alpha = \\frac38$."
   ]
  },
  {
   "cell_type": "markdown",
   "metadata": {},
   "source": [
    "## 2\n",
    "**[3 points]** What is the cumulative distribution function (CDF) that corresponds to the following probability distribution function? Please state the value of the CDF for all possible values of $x$.\n",
    "\n",
    "$f(x) = \\begin{cases}\n",
    "    \\frac{1}{3} & 0 < x < 3 \\\\\n",
    "    0           & \\text{otherwise}\n",
    "    \\end{cases}$"
   ]
  },
  {
   "cell_type": "markdown",
   "metadata": {},
   "source": [
    "**ANSWER**\n",
    "\n",
    "The value of a CDF at $x$ is the sum of all values over $(-\\infty,x]$ of the corresponding PDF. This is, in other words, an integral. In this case, the CDF of $f(x)$ can be a definite integral over $(0,x]$, since $f(x)=0$ for all $x \\le 0$, so we can write it as:\n",
    "\n",
    "\\begin{alignat}{1}\n",
    "    \\text{CDF}_f(x) &= \\int_0^x {\\frac13} \\text{d}x - f(0)  \\\\[2mm]\n",
    "                    &= {\\left(\\left. \\frac13 x \\right|\\right.}_0^x  \\\\[2mm]\n",
    "                    &= \\frac13 x\n",
    "\\end{alignat}\n",
    "\n",
    "The CDF of $f(x)$ is $\\text{CDF}_f(x) = \\frac13 x$."
   ]
  },
  {
   "cell_type": "markdown",
   "metadata": {},
   "source": [
    "## 3\n",
    "\n",
    "**[6 points]** For the probability distribution function for the random variable $X$,\n",
    "\n",
    "$f(x) = \\begin{cases}\n",
    "    \\frac{1}{3} & 0 < x < 3 \\\\\n",
    "    0           & \\text{otherwise}\n",
    "    \\end{cases}$\n",
    "    \n",
    "what is the (a) expected value and (b) variance of $X$. *Show all work*."
   ]
  },
  {
   "cell_type": "markdown",
   "metadata": {},
   "source": [
    "**ANSWER**\n",
    "\n",
    "If we define the domain as $D_X = \\big\\{ x \\big| f(x)>0 \\big\\} = (a,b)$, we can find the expected value of $X$, or $E[X]$ $\\mu$, with the help of an integral:\n",
    "\n",
    "\\begin{alignat}{1}\n",
    "    \\mu &= \\int_a^b {x f(x)} \\text{d}x - f(a) - f(b)  \\\\[2mm]\n",
    "        &= \\int_0^3 {\\frac13 x} \\text{d}x  \\\\[2mm]\n",
    "        &= {\\left(\\left. \\frac{x^2}{6} \\right|\\right.}_0^3  \\\\[2mm]\n",
    "        &= \\frac32\n",
    "\\end{alignat}\n",
    "\n",
    "Let's now use $\\mu=\\frac32$ to find the variance, $\\sigma^2$. According to [this website](https://www.probabilitycourse.com/chapter4/4_1_2_expected_val_variance.php), the variance of $X$ is the expected value of the difference between $X$ and $\\mu$ quantity squared, $E\\left[ (X-\\mu)^2 \\right]$. If we substitute $x$ for $(x-\\mu)^2$ in our integral from above, we can find this quantity:\n",
    "\n",
    "\\begin{alignat}{1}\n",
    "    \\sigma^2 &= \\int_0^3 {(x-\\mu)^2 f(x)} \\text{d}x  \\\\[2mm]\n",
    "             &= \\int_0^3 {\\frac13\\left(x-\\frac32\\right)^2} \\text{d}x  \\\\[2mm]\n",
    "             &= \\frac13 \\int_0^3 {\\left(x-\\frac32\\right)^2} \\text{d}x  \\\\[2mm]\n",
    "             &= \\frac13 {\\left[\\left. \\frac13 \\left(x-\\frac32\\right)^3 \\right|\\right.}_0^3  \\\\[2mm]\n",
    "             &= \\frac13 \\left[  \\frac13 \\left(3-\\frac32\\right)^3 - \\frac13 \\left(0-\\frac32\\right)^3  \\right]  \\\\[2mm]\n",
    "             &= \\frac13 \\left( \\frac98 - \\frac98 \\right)  \\\\[2mm]\n",
    "    \\sigma^2 &= 0\n",
    "\\end{alignat}\n",
    "\n",
    "It makes intuitive sense that the variance $\\sigma^2$ is 0, since the funciton $f(x)$ never changes output over $x=(0,3)$."
   ]
  },
  {
   "cell_type": "markdown",
   "metadata": {},
   "source": [
    "## 4\n",
    "\n",
    "**[6 points]** Consider the following table of data that provides the values of a discrete data vector $\\mathbf{x}$ of samples from the random variable $X$, where each entry in $\\mathbf{x}$ is given as $x_i$.\n",
    "\n",
    "*Table 1. Dataset N=5 observations*\n",
    "\n",
    "|              | $x_0$ | $x_1$ | $x_2$ | $x_3$ | $x_4$ |\n",
    "| ------------ |-------|-------|-------|-------|-------|\n",
    "| $\\textbf{x}$ | 2     | 3     | 10    | -1    | -1    |\n",
    "\n",
    "What is the (a) mean and (b) variance of the data? \n",
    "\n",
    "*Show all work. Your answer should include the definition of mean and variance in the context of discrete data. In this case, use the sample variance since the sample size is quite small*"
   ]
  },
  {
   "cell_type": "markdown",
   "metadata": {},
   "source": [
    "**ANSWER**\n",
    "\n",
    "The mean of discrete data is the sum of all discrete values divided by the number of values. It's the most mathematically \"middle\" value. Since we have a small sample size, we'll use $\\bar x$ instead of $\\mu$ to represent the mean.\n",
    "\n",
    "::: {.callout-note}\n",
    "The dataset above uses zero-based indexing, but summations typically use one-based indexing. Assume this summation automatically does this translation and everything is fine.\n",
    ":::\n",
    "\n",
    "\\begin{alignat}{1}\n",
    "    \\bar x &= \\sum_{n=1}^N \\frac{x_n}{N}  \\\\[2mm]\n",
    "           &= \\sum_{n=1}^i \\frac{x_n}{5}  \\\\[2mm]\n",
    "           &= \\frac25 + \\frac35 + \\frac{10}5 - \\frac15 - \\frac15  \\\\[2mm]\n",
    "    \\bar x &= \\frac{13}5 = 2.6\n",
    "\\end{alignat}\n",
    "\n",
    "The variance of discrete data is the average difference between the mean value and actual value for values. Since we have a small sample size, we'll use $s^2$ instead of $\\sigma^2$ to represent the variance.\n",
    "\n",
    "Assuming $X$ is still a random variable of the same probability distribution function $f(x)$ from above, we can use the following summation to find the variance:\n",
    "\n",
    "\\begin{alignat}{1}\n",
    "    s^2 &= \\sum_{n=1}^N (x_n - \\bar x)^2 f(x_n)  \\\\[2mm]\n",
    "        &= \\frac{(2-2.6)^2}{3} + 0(3-2.6)^2 + 0(10-2.6)^2 + 0(-1-2.6)^2 + 0(-1-2.6)^2  \\\\[2mm]\n",
    "    s^2 &= 0.12\n",
    "\\end{alignat}"
   ]
  },
  {
   "cell_type": "markdown",
   "metadata": {},
   "source": [
    "# Linear Algebra"
   ]
  },
  {
   "cell_type": "markdown",
   "metadata": {},
   "source": [
    "## 5\n",
    "**[14 points]** **Matrix manipulations and multiplication**. Machine learning involves working with many matrices, so this exercise will provide you with the opportunity to practice those skills.\n",
    "\n",
    "Let\n",
    "$\\mathbf{A} =  \\begin{bmatrix}\n",
    "1 & 2 & 3 \\\\\n",
    "2 & 4 & 5 \\\\\n",
    "3 & 5 & 6 \n",
    "\\end{bmatrix}$, $\\mathbf{b} =  \\begin{bmatrix}\n",
    "-1  \\\\\n",
    "3  \\\\\n",
    "8  \n",
    "\\end{bmatrix}$, $\\mathbf{c} =  \\begin{bmatrix}\n",
    "4  \\\\\n",
    "-3  \\\\\n",
    "6  \n",
    "\\end{bmatrix}$, and $\\mathbf{I} =  \\begin{bmatrix}\n",
    "1 & 0 & 0 \\\\\n",
    "0 & 1 & 0 \\\\\n",
    "0 & 0 & 1 \n",
    "\\end{bmatrix}$\n",
    "\n",
    "Compute the following (using Python) or indicate that it cannot be computed. Refer to numpy's tools for handling matrices.\n",
    "\n",
    "1. $\\mathbf{A}\\mathbf{A}$\n",
    "2. $\\mathbf{A}\\mathbf{A}^T$\n",
    "3. $\\mathbf{A}\\mathbf{b}$\n",
    "4. $\\mathbf{A}\\mathbf{b}^T$\n",
    "5. $\\mathbf{b}\\mathbf{A}$\n",
    "6. $\\mathbf{b}^T\\mathbf{A}$\n",
    "7. $\\mathbf{b}\\mathbf{b}$\n",
    "8. $\\mathbf{b}^T\\mathbf{b}$\n",
    "9. $\\mathbf{b}\\mathbf{b}^T$\n",
    "10. $\\mathbf{b} + \\mathbf{c}^T$\n",
    "11. $\\mathbf{b}^T\\mathbf{b}^T$\n",
    "12. $\\mathbf{A}^{-1}\\mathbf{b}$\n",
    "13. $\\mathbf{A}\\circ\\mathbf{A}$\n",
    "14. $\\mathbf{b}\\circ\\mathbf{c}$\n",
    "\n",
    "*Note: The element-wise (or Hadamard) product is the product of each element in one matrix with the corresponding element in another matrix, and is represented by the symbol \"$\\circ$\".*"
   ]
  },
  {
   "cell_type": "markdown",
   "metadata": {},
   "source": [
    "**ANSWER**"
   ]
  },
  {
   "cell_type": "code",
   "execution_count": 145,
   "metadata": {},
   "outputs": [],
   "source": [
    "# Import numpy\n",
    "import numpy as np\n",
    "\n",
    "# Define the matrices\n",
    "\n",
    "A = np.matrix([\n",
    "    [1, 2, 3],\n",
    "    [2, 4, 5],\n",
    "    [3, 5, 6]\n",
    "])\n",
    "b = np.matrix([\n",
    "    [-1],\n",
    "    [3],\n",
    "    [8]\n",
    "])\n",
    "c = np.matrix([\n",
    "    [4],\n",
    "    [-3],\n",
    "    [6]\n",
    "])\n",
    "I = np.matrix([\n",
    "    [1, 0, 0],\n",
    "    [0, 1, 0],\n",
    "    [0, 0, 1]\n",
    "])"
   ]
  },
  {
   "cell_type": "code",
   "execution_count": 146,
   "metadata": {},
   "outputs": [
    {
     "data": {
      "text/plain": [
       "matrix([[14, 25, 31],\n",
       "        [25, 45, 56],\n",
       "        [31, 56, 70]])"
      ]
     },
     "execution_count": 146,
     "metadata": {},
     "output_type": "execute_result"
    }
   ],
   "source": [
    "# 1: AA\n",
    "np.matmul(A, A)"
   ]
  },
  {
   "cell_type": "code",
   "execution_count": 147,
   "metadata": {},
   "outputs": [
    {
     "data": {
      "text/plain": [
       "matrix([[14, 25, 31],\n",
       "        [25, 45, 56],\n",
       "        [31, 56, 70]])"
      ]
     },
     "execution_count": 147,
     "metadata": {},
     "output_type": "execute_result"
    }
   ],
   "source": [
    "# 2: AA(t)\n",
    "np.matmul(A, A.transpose())"
   ]
  },
  {
   "cell_type": "code",
   "execution_count": 148,
   "metadata": {},
   "outputs": [
    {
     "data": {
      "text/plain": [
       "matrix([[29],\n",
       "        [50],\n",
       "        [60]])"
      ]
     },
     "execution_count": 148,
     "metadata": {},
     "output_type": "execute_result"
    }
   ],
   "source": [
    "# 3: Ab\n",
    "\n",
    "# The @ operator also does matrix multiplication. https://peps.python.org/pep-0465/\n",
    "A @ b"
   ]
  },
  {
   "cell_type": "code",
   "execution_count": 149,
   "metadata": {},
   "outputs": [
    {
     "data": {
      "text/plain": [
       "\"This one isn't possible. $A$ has three columns, and $b$ has three rows, which is why $Ab$ \\nis possible. However, since $b^T$ transposes the rows into columns, $b^T$ only has one row,\\nmaking $Ab^T$ impossible.\""
      ]
     },
     "execution_count": 149,
     "metadata": {},
     "output_type": "execute_result"
    }
   ],
   "source": [
    "# 4: Ab(t)\n",
    "\n",
    "\"\"\"\\\n",
    "This one isn't possible. $A$ has three columns, and $b$ has three rows, which is why $Ab$ \n",
    "is possible. However, since $b^T$ transposes the rows into columns, $b^T$ only has one row,\n",
    "making $Ab^T$ impossible.\\\n",
    "\"\"\"\n",
    "# A @ b.transpose()"
   ]
  },
  {
   "cell_type": "code",
   "execution_count": 150,
   "metadata": {},
   "outputs": [
    {
     "data": {
      "text/plain": [
       "\"This one isn't possible. $b$ has one column, and $A$ has three rows.\""
      ]
     },
     "execution_count": 150,
     "metadata": {},
     "output_type": "execute_result"
    }
   ],
   "source": [
    "# 5: bA\n",
    "\n",
    "\"\"\"\\\n",
    "This one isn't possible. $b$ has one column, and $A$ has three rows.\\\n",
    "\"\"\"\n",
    "# b @ A"
   ]
  },
  {
   "cell_type": "code",
   "execution_count": 151,
   "metadata": {},
   "outputs": [
    {
     "data": {
      "text/plain": [
       "matrix([[29, 50, 60]])"
      ]
     },
     "execution_count": 151,
     "metadata": {},
     "output_type": "execute_result"
    }
   ],
   "source": [
    "# 6: b(t)A\n",
    "b.transpose() @ A"
   ]
  },
  {
   "cell_type": "code",
   "execution_count": 152,
   "metadata": {},
   "outputs": [
    {
     "data": {
      "text/plain": [
       "'Not possible, since $b$ has one column and three rows.\\n'"
      ]
     },
     "execution_count": 152,
     "metadata": {},
     "output_type": "execute_result"
    }
   ],
   "source": [
    "# 7: bb\n",
    "\n",
    "\"\"\"\\\n",
    "Not possible, since $b$ has one column and three rows.\n",
    "\"\"\"\n",
    "# b @ b"
   ]
  },
  {
   "cell_type": "code",
   "execution_count": 153,
   "metadata": {},
   "outputs": [
    {
     "data": {
      "text/plain": [
       "matrix([[74]])"
      ]
     },
     "execution_count": 153,
     "metadata": {},
     "output_type": "execute_result"
    }
   ],
   "source": [
    "# 8: b(t)b\n",
    "b.transpose() @ b"
   ]
  },
  {
   "cell_type": "code",
   "execution_count": 154,
   "metadata": {},
   "outputs": [
    {
     "data": {
      "text/plain": [
       "matrix([[ 1, -3, -8],\n",
       "        [-3,  9, 24],\n",
       "        [-8, 24, 64]])"
      ]
     },
     "execution_count": 154,
     "metadata": {},
     "output_type": "execute_result"
    }
   ],
   "source": [
    "# 9: bb(t)\n",
    "b @ b.transpose()"
   ]
  },
  {
   "cell_type": "code",
   "execution_count": 155,
   "metadata": {},
   "outputs": [
    {
     "data": {
      "text/plain": [
       "matrix([[ 3, -4,  5],\n",
       "        [ 7,  0,  9],\n",
       "        [12,  5, 14]])"
      ]
     },
     "execution_count": 155,
     "metadata": {},
     "output_type": "execute_result"
    }
   ],
   "source": [
    "# 10: b + c(t)\n",
    "b + c.transpose()"
   ]
  },
  {
   "cell_type": "code",
   "execution_count": 156,
   "metadata": {},
   "outputs": [
    {
     "data": {
      "text/plain": [
       "'Not possible, since $b^T$ has three columns and one row.\\n'"
      ]
     },
     "execution_count": 156,
     "metadata": {},
     "output_type": "execute_result"
    }
   ],
   "source": [
    "# 11: b(t)b(t)\n",
    "\n",
    "\"\"\"\\\n",
    "Not possible, since $b^T$ has three columns and one row.\n",
    "\"\"\"\n",
    "# b.transpose @ b.transpose()"
   ]
  },
  {
   "cell_type": "code",
   "execution_count": 157,
   "metadata": {},
   "outputs": [
    {
     "data": {
      "text/plain": [
       "matrix([[ 6.],\n",
       "        [ 4.],\n",
       "        [-5.]])"
      ]
     },
     "execution_count": 157,
     "metadata": {},
     "output_type": "execute_result"
    }
   ],
   "source": [
    "# 12: A^{-1} b\n",
    "A.I @ b"
   ]
  },
  {
   "cell_type": "code",
   "execution_count": 158,
   "metadata": {},
   "outputs": [
    {
     "data": {
      "text/plain": [
       "matrix([[-1, -2, -3],\n",
       "        [ 6, 12, 15],\n",
       "        [24, 40, 48]])"
      ]
     },
     "execution_count": 158,
     "metadata": {},
     "output_type": "execute_result"
    }
   ],
   "source": [
    "# 13: A o b\n",
    "np.multiply(A, b)"
   ]
  },
  {
   "cell_type": "code",
   "execution_count": 159,
   "metadata": {},
   "outputs": [
    {
     "data": {
      "text/plain": [
       "matrix([[-4],\n",
       "        [-9],\n",
       "        [48]])"
      ]
     },
     "execution_count": 159,
     "metadata": {},
     "output_type": "execute_result"
    }
   ],
   "source": [
    "# 14: b o c\n",
    "np.multiply(b, c)"
   ]
  },
  {
   "cell_type": "code",
   "execution_count": 160,
   "metadata": {},
   "outputs": [
    {
     "data": {
      "text/plain": [
       "matrix([[0],\n",
       "        [0],\n",
       "        [0]])"
      ]
     },
     "execution_count": 160,
     "metadata": {},
     "output_type": "execute_result"
    }
   ],
   "source": [
    "np.matrix([\n",
    "    [0, 5, -10],\n",
    "    [0, 22, 16],\n",
    "    [0, -9, -2]\n",
    "]) @ np.matrix([\n",
    "    [1],\n",
    "    [0],\n",
    "    [0]\n",
    "])"
   ]
  },
  {
   "cell_type": "markdown",
   "metadata": {},
   "source": [
    "## 6\n",
    "**[8 points]** **Eigenvectors and eigenvalues**. Eigenvectors and eigenvalues are useful for some machine learning algorithms, but the concepts take time to solidly grasp. They are used extensively in machine learning and in this course we will encounter them in relation to Principal Components Analysis (PCA) and clustering algorithms. For an intuitive review of these concepts, explore this [interactive website at Setosa.io](http://setosa.io/ev/eigenvectors-and-eigenvalues/). Also, the series of linear algebra videos by Grant Sanderson of 3Brown1Blue are excellent and can be viewed on YouTube [here](https://www.youtube.com/playlist?list=PLZHQObOWTQDPD3MizzM2xVFitgF8hE_ab). For these questions, numpy may once again be helpful.\n",
    "\n",
    "1. Calculate the eigenvalues and corresponding eigenvectors of matrix $\\mathbf{A}$ above, from the last question.\n",
    "2. Choose one of the eigenvector/eigenvalue pairs, $\\mathbf{v}$ and $\\lambda$, and show that $\\mathbf{A} \\mathbf{v} = \\lambda \\mathbf{v}$. This relationship extends to higher orders: $\\mathbf{A} \\mathbf{A} \\mathbf{v} = \\lambda^2 \\mathbf{v}$\n",
    "3. Show that the eigenvectors are orthogonal to one another (e.g. their inner product is zero). This is true for eigenvectors from real, symmetric matrices. In three dimensions or less, this means that the eigenvectors are perpendicular to each other. Typically we use the orthogonal basis of our standard x, y, and z, Cartesian coordinates, which allows us, if we combine them linearly, to represent any point in a 3D space. But any three orthogonal vectors can do the same. We will see this property is used in PCA to identify the dimensions of greatest variation in our data when we discuss dimensionality reduction."
   ]
  },
  {
   "cell_type": "markdown",
   "metadata": {},
   "source": [
    "**ANSWER**"
   ]
  },
  {
   "cell_type": "markdown",
   "metadata": {},
   "source": [
    "### Part 1\n",
    "\n",
    "> Calculate the eigenvalues and corresponding eigenvectors of matrix $\\mathbf{A}$ above, from the last question.\n",
    "\n",
    "\n",
    "$\\mathbf{A} = \\begin{bmatrix}\n",
    "    1 & 2 & 3  \\\\\n",
    "    2 & 4 & 5  \\\\\n",
    "    3 & 5 & 6 \n",
    "\\end{bmatrix}$\n",
    "and\n",
    "$\\lambda\\mathbf{I} = \\begin{bmatrix}\n",
    "    \\lambda & 0 & 0  \\\\\n",
    "    0 & \\lambda & 0  \\\\\n",
    "    0 & 0 & \\lambda\n",
    "\\end{bmatrix}$.\n",
    "\n",
    "According to [this website](https://math.libretexts.org/Bookshelves/Linear_Algebra/A_First_Course_in_Linear_Algebra_(Kuttler)/07%3A_Spectral_Theory/7.01%3A_Eigenvalues_and_Eigenvectors_of_a_Matrix), the eigenvalues $\\lambda$ can be found by solving for $\\lambda$ in $\\det(\\lambda\\mathbf{I}-\\mathbf{A})=0$:\n",
    "\n",
    "\\begin{alignat}{1}\n",
    "    \\det\\left(\\lambda\\mathbf{I}-\\mathbf{A}\\right) &= \\det\\left(\\begin{bmatrix}\n",
    "                \\lambda & 0 & 0  \\\\\n",
    "                0 & \\lambda & 0  \\\\\n",
    "                0 & 0 & \\lambda\n",
    "            \\end{bmatrix} - \\begin{bmatrix}\n",
    "                1 & 2 & 3  \\\\\n",
    "                2 & 4 & 5  \\\\\n",
    "                3 & 5 & 6 \n",
    "            \\end{bmatrix}\n",
    "        \\right)  \\\\[2mm]\n",
    "    &= \\det\\begin{bmatrix}\n",
    "            \\lambda-1 & -2 & -3  \\\\\n",
    "            -2 & \\lambda-4 & -5  \\\\\n",
    "            -3 & -5 & \\lambda-6\n",
    "        \\end{bmatrix}\n",
    "        \\\\[2mm]\n",
    "    0 &= \\lambda^3 - 11\\lambda^2 - 4\\lambda + 1\n",
    "\\end{alignat}\n",
    "\n",
    "WolframAlpha found solutions for $x$ involving roots and imaginary numbers, and my TI-nspire (which has CAS) only gave me lengthy decimals, so I'm just going to leave it at that.\n",
    "\n",
    "In hindsight, I realize I probably didn't need to do all that by hand, but it was useful practice for me, since I haven't dealt with linear algebra since my Junior year of high school. Let's do it with Numpy now."
   ]
  },
  {
   "cell_type": "code",
   "execution_count": 187,
   "metadata": {},
   "outputs": [
    {
     "name": "stdout",
     "output_type": "stream",
     "text": [
      "Eigenvalues:\n",
      "  λ = 11.34481428276208\n",
      "  λ = -0.5157294715892575\n",
      "  λ = 0.17091518882717868\n",
      "Eigenvectors:\n",
      "  v = [[-0.32798528 -0.73697623  0.59100905]]\n",
      "  v = [[-0.59100905 -0.32798528 -0.73697623]]\n",
      "  v = [[-0.73697623  0.59100905  0.32798528]]\n"
     ]
    }
   ],
   "source": [
    "from numpy.linalg import eig\n",
    "\n",
    "# Reminder of what A is\n",
    "A = np.matrix([\n",
    "    [1, 2, 3],\n",
    "    [2, 4, 5],\n",
    "    [3, 5, 6]\n",
    "])\n",
    "\n",
    "values, vectors = eig(A)\n",
    "print(f'Eigenvalues:\\n  λ = {'\\n  λ = '.join([str(val) for val in values])}')\n",
    "print(f'Eigenvectors:\\n  v = {'\\n  v = '.join([str(vec) for vec in vectors])}')"
   ]
  },
  {
   "cell_type": "markdown",
   "metadata": {},
   "source": [
    "### Part 2\n",
    "\n",
    "> Choose one of the eigenvector/eigenvalue pairs, $\\mathbf{v}$ and $\\lambda$, and show that\n",
    "> $\\mathbf{A} \\mathbf{v} = \\lambda \\mathbf{v}$. This relationship extends to higher orders:\n",
    "> $\\mathbf{A} \\mathbf{A} \\mathbf{v} = \\lambda^2 \\mathbf{v}$."
   ]
  },
  {
   "cell_type": "code",
   "execution_count": 236,
   "metadata": {},
   "outputs": [
    {
     "name": "stdout",
     "output_type": "stream",
     "text": [
      "Left vector (Av):\n",
      "[[-3.72093206]\n",
      " [-6.70488789]\n",
      " [-8.36085845]]\n",
      "\n",
      "Right vector (lambda v):\n",
      "[[-3.72093206]\n",
      " [-6.70488789]\n",
      " [-8.36085845]]\n",
      "Error:\n",
      " Left: -3.7209320619166233, Right: -3.7209320619166246, error: 0.000000000000033%\n",
      " Left: -6.704887894733669, Right: -6.704887894733666, error: -0.000000000000044%\n",
      " Left: -8.360858449945031, Right: -8.360858449945036, error: 0.000000000000067%\n"
     ]
    }
   ],
   "source": [
    "idx = 0\n",
    "left = A @ vectors[:,idx]\n",
    "right = values[idx] * vectors[:,idx]\n",
    "\n",
    "print(f'Left vector (Av):\\n{left}')\n",
    "print(f'\\nRight vector (lambda v):\\n{right}')\n",
    "\n",
    "print('Error:')\n",
    "for l, r in zip(left, right):\n",
    "    print(f' Left: {l[0,0]}, Right: {r[0,0]}, error: {(1-(l[0,0] / r[0,0]))*100:.15f}%')"
   ]
  },
  {
   "cell_type": "code",
   "execution_count": 270,
   "metadata": {},
   "outputs": [
    {
     "name": "stdout",
     "output_type": "stream",
     "text": [
      "Now for a 2nd-order test. I'm not doing all the pretty formatting though.\n"
     ]
    },
    {
     "data": {
      "text/plain": [
       "(matrix([[-42.2132832 ],\n",
       "         [-76.06570795],\n",
       "         [-94.85238636]]),\n",
       " matrix([[-42.2132832 ],\n",
       "         [-76.06570795],\n",
       "         [-94.85238636]]),\n",
       " 'Av = lambda v: True')"
      ]
     },
     "execution_count": 270,
     "metadata": {},
     "output_type": "execute_result"
    }
   ],
   "source": [
    "print('Now for a 2nd-order test. I\\'m not doing all the pretty formatting though.')\n",
    "left = (A @ A) @ vectors[:,idx]\n",
    "right = (values[idx] ** 2) * vectors[:,idx]\n",
    "\n",
    "# Use np.allclose to account for floating point errors.\n",
    "left, right, f'Av = lambda v: {np.allclose(left, right)}'"
   ]
  },
  {
   "cell_type": "markdown",
   "metadata": {},
   "source": [
    "### Part 3\n",
    "\n",
    "> Show that the eigenvectors are orthogonal to one another (e.g. their inner product is zero). This is true for\n",
    "> eigenvectors from real, symmetric matrices. In three dimensions or less, this means that the eigenvectors are\n",
    "> perpendicular to each other. Typically we use the orthogonal basis of our standard x, y, and z, Cartesian\n",
    "> coordinates, which allows us, if we combine them linearly, to represent any point in a 3D space. But any three\n",
    "> orthogonal vectors can do the same. We will see this property is used in PCA to identify the dimensions of\n",
    "> greatest variation in our data when we discuss dimensionality reduction.\n",
    "\n"
   ]
  },
  {
   "cell_type": "code",
   "execution_count": 269,
   "metadata": {},
   "outputs": [
    {
     "name": "stdout",
     "output_type": "stream",
     "text": [
      "Vectors are orthogonal: True\n"
     ]
    }
   ],
   "source": [
    "zero_matrix = np.matrix([[0],[0],[0]])\n",
    "\n",
    "# Use np.allclose to account for floating point errors.\n",
    "close_to_zero = np.allclose((vectors[:,0] @ vectors[:,1].I) @ vectors[:,2], zero_matrix)\n",
    "print(f'Vectors are orthogonal: {close_to_zero}')"
   ]
  },
  {
   "cell_type": "markdown",
   "metadata": {},
   "source": [
    "# Numerical Programming"
   ]
  },
  {
   "cell_type": "markdown",
   "metadata": {},
   "source": [
    "## 7\n",
    "\n",
    "**[10 points]** Loading data and gathering insights from a real dataset\n",
    "\n",
    "In data science, we often need to have a sense of the idiosyncrasies of the data, how they relate to the questions we are trying to answer, and to use that information to help us to determine what approach, such as machine learning, we may need to apply to achieve our goal. This exercise provides practice in exploring a dataset and answering questions that might arise from applications related to the data.\n",
    "\n",
    "**Data**. The data for this problem can be found in the `data` subfolder in the `assignments` folder on [github](https://github.com/kylebradbury/ids705). The filename is `a1_egrid2016.xlsx`. This dataset is the Environmental Protection Agency's (EPA) [Emissions & Generation Resource Integrated Database (eGRID)](https://www.epa.gov/energy/emissions-generation-resource-integrated-database-egrid) containing information about all power plants in the United States, the amount of generation they produce, what fuel they use, the location of the plant, and many more quantities. We'll be using a subset of those data.\n",
    "\n",
    "The fields we'll be using include:\t\t\t\t\t\n",
    "    \n",
    "| **Field** | **Description**                                  |\n",
    "|:--------- |:------------------------------------------------ |\n",
    "| SEQPLT16  | eGRID2016 Plant file sequence number (the index) | \n",
    "| PSTATABB  | Plant state abbreviation                         |\n",
    "| PNAME     | Plant name                                       |\n",
    "| LAT       | Plant latitude                                   |\n",
    "| LON       | Plant longitude                                  |\n",
    "| PLPRMFL   | Plant primary fuel                               |\n",
    "| CAPFAC    | Plant capacity factor                            |\n",
    "| NAMEPCAP  | Plant nameplate capacity (Megawatts MW)          |\n",
    "| PLNGENAN  | Plant annual net generation (Megawatt-hours MWh) |\n",
    "| PLCO2EQA  | Plant annual CO2 equivalent emissions (tons)     |\n",
    "\n",
    "For more details on the data, you can refer to the [eGrid technical documents](https://www.epa.gov/sites/default/files/2021-02/documents/egrid2019_technical_guide.pdf). For example, you may want to review page 45 and the section \"Plant Primary Fuel (PLPRMFL)\", which gives the full names of the fuel types including WND for wind, NG for natural gas, BIT for Bituminous coal, etc.\n",
    "\n",
    "There also are a couple of \"gotchas\" to watch out for with this dataset:\n",
    "- The headers are on the second row and you'll want to ignore the first row (they're more detailed descriptions of the headers).\n",
    "- NaN values represent blanks in the data. These will appear regularly in real-world data, so getting experience working with it will be important.\n",
    "\n",
    "**Your objective**. For this dataset, your goal is answer the following questions about electricity generation in the United States:\n",
    "\n",
    "**(a)** Which plant has generated the most energy (measured in MWh)?\n",
    "\n",
    "**(b)** What is the name of the northern-most power plant in the United States?\n",
    "\n",
    "**(c)** What is the state where the northern-most power plant in the United States is located?\n",
    "\n",
    "**(d)** Plot a bar plot showing the amount of energy produced by each fuel type across all plants. \n",
    "\n",
    "**(e)** From the plot in (d), which fuel for generation produces the most energy (MWh) in the United States?"
   ]
  },
  {
   "cell_type": "markdown",
   "metadata": {},
   "source": [
    "**ANSWER**"
   ]
  },
  {
   "cell_type": "code",
   "execution_count": 175,
   "metadata": {},
   "outputs": [
    {
     "name": "stdout",
     "output_type": "stream",
     "text": [
      "/Users/noahroberts/GitHub/csci547_ML/assignments/data/a1_egrid2016.xlsx\n"
     ]
    },
    {
     "data": {
      "text/html": [
       "<div>\n",
       "<style scoped>\n",
       "    .dataframe tbody tr th:only-of-type {\n",
       "        vertical-align: middle;\n",
       "    }\n",
       "\n",
       "    .dataframe tbody tr th {\n",
       "        vertical-align: top;\n",
       "    }\n",
       "\n",
       "    .dataframe thead th {\n",
       "        text-align: right;\n",
       "    }\n",
       "</style>\n",
       "<table border=\"1\" class=\"dataframe\">\n",
       "  <thead>\n",
       "    <tr style=\"text-align: right;\">\n",
       "      <th></th>\n",
       "      <th>SEQPLT16</th>\n",
       "      <th>PSTATABB</th>\n",
       "      <th>PNAME</th>\n",
       "      <th>LAT</th>\n",
       "      <th>LON</th>\n",
       "      <th>PLPRMFL</th>\n",
       "      <th>CAPFAC</th>\n",
       "      <th>NAMEPCAP</th>\n",
       "      <th>PLNGENAN</th>\n",
       "      <th>PLCO2EQA</th>\n",
       "    </tr>\n",
       "  </thead>\n",
       "  <tbody>\n",
       "    <tr>\n",
       "      <th>0</th>\n",
       "      <td>1</td>\n",
       "      <td>AK</td>\n",
       "      <td>7-Mile Ridge Wind Project</td>\n",
       "      <td>63.210689</td>\n",
       "      <td>-143.247156</td>\n",
       "      <td>WND</td>\n",
       "      <td>NaN</td>\n",
       "      <td>1.8</td>\n",
       "      <td>NaN</td>\n",
       "      <td>NaN</td>\n",
       "    </tr>\n",
       "    <tr>\n",
       "      <th>1</th>\n",
       "      <td>2</td>\n",
       "      <td>AK</td>\n",
       "      <td>Agrium Kenai Nitrogen Operations</td>\n",
       "      <td>60.673200</td>\n",
       "      <td>-151.378400</td>\n",
       "      <td>NG</td>\n",
       "      <td>NaN</td>\n",
       "      <td>21.6</td>\n",
       "      <td>NaN</td>\n",
       "      <td>NaN</td>\n",
       "    </tr>\n",
       "    <tr>\n",
       "      <th>2</th>\n",
       "      <td>3</td>\n",
       "      <td>AK</td>\n",
       "      <td>Alakanuk</td>\n",
       "      <td>62.683300</td>\n",
       "      <td>-164.654400</td>\n",
       "      <td>DFO</td>\n",
       "      <td>0.05326</td>\n",
       "      <td>2.6</td>\n",
       "      <td>1213.001</td>\n",
       "      <td>1049.863</td>\n",
       "    </tr>\n",
       "    <tr>\n",
       "      <th>3</th>\n",
       "      <td>4</td>\n",
       "      <td>AK</td>\n",
       "      <td>Allison Creek Hydro</td>\n",
       "      <td>61.084444</td>\n",
       "      <td>-146.353333</td>\n",
       "      <td>WAT</td>\n",
       "      <td>0.01547</td>\n",
       "      <td>6.5</td>\n",
       "      <td>881.000</td>\n",
       "      <td>0.000</td>\n",
       "    </tr>\n",
       "    <tr>\n",
       "      <th>4</th>\n",
       "      <td>5</td>\n",
       "      <td>AK</td>\n",
       "      <td>Ambler</td>\n",
       "      <td>67.087980</td>\n",
       "      <td>-157.856719</td>\n",
       "      <td>DFO</td>\n",
       "      <td>0.13657</td>\n",
       "      <td>1.1</td>\n",
       "      <td>1315.999</td>\n",
       "      <td>1087.881</td>\n",
       "    </tr>\n",
       "    <tr>\n",
       "      <th>...</th>\n",
       "      <td>...</td>\n",
       "      <td>...</td>\n",
       "      <td>...</td>\n",
       "      <td>...</td>\n",
       "      <td>...</td>\n",
       "      <td>...</td>\n",
       "      <td>...</td>\n",
       "      <td>...</td>\n",
       "      <td>...</td>\n",
       "      <td>...</td>\n",
       "    </tr>\n",
       "    <tr>\n",
       "      <th>9704</th>\n",
       "      <td>9705</td>\n",
       "      <td>WY</td>\n",
       "      <td>Western Sugar Coop - Torrington</td>\n",
       "      <td>42.046900</td>\n",
       "      <td>-104.186300</td>\n",
       "      <td>NG</td>\n",
       "      <td>0.39348</td>\n",
       "      <td>2.0</td>\n",
       "      <td>6893.790</td>\n",
       "      <td>2377.683</td>\n",
       "    </tr>\n",
       "    <tr>\n",
       "      <th>9705</th>\n",
       "      <td>9706</td>\n",
       "      <td>WY</td>\n",
       "      <td>Wygen I</td>\n",
       "      <td>44.285800</td>\n",
       "      <td>-105.383300</td>\n",
       "      <td>SUB</td>\n",
       "      <td>0.90122</td>\n",
       "      <td>90.0</td>\n",
       "      <td>710524.000</td>\n",
       "      <td>926215.622</td>\n",
       "    </tr>\n",
       "    <tr>\n",
       "      <th>9706</th>\n",
       "      <td>9707</td>\n",
       "      <td>WY</td>\n",
       "      <td>Wygen II</td>\n",
       "      <td>44.291900</td>\n",
       "      <td>-105.381100</td>\n",
       "      <td>SUB</td>\n",
       "      <td>0.88242</td>\n",
       "      <td>95.0</td>\n",
       "      <td>734354.000</td>\n",
       "      <td>909354.797</td>\n",
       "    </tr>\n",
       "    <tr>\n",
       "      <th>9707</th>\n",
       "      <td>9708</td>\n",
       "      <td>WY</td>\n",
       "      <td>Wygen III</td>\n",
       "      <td>44.291900</td>\n",
       "      <td>-105.380600</td>\n",
       "      <td>SUB</td>\n",
       "      <td>0.80863</td>\n",
       "      <td>116.0</td>\n",
       "      <td>821699.000</td>\n",
       "      <td>975147.426</td>\n",
       "    </tr>\n",
       "    <tr>\n",
       "      <th>9708</th>\n",
       "      <td>9709</td>\n",
       "      <td>WY</td>\n",
       "      <td>Wyodak</td>\n",
       "      <td>44.290128</td>\n",
       "      <td>-105.381482</td>\n",
       "      <td>SUB</td>\n",
       "      <td>0.58351</td>\n",
       "      <td>402.3</td>\n",
       "      <td>2056358.000</td>\n",
       "      <td>2708379.819</td>\n",
       "    </tr>\n",
       "  </tbody>\n",
       "</table>\n",
       "<p>9709 rows × 10 columns</p>\n",
       "</div>"
      ],
      "text/plain": [
       "      SEQPLT16 PSTATABB                             PNAME        LAT  \\\n",
       "0            1       AK         7-Mile Ridge Wind Project  63.210689   \n",
       "1            2       AK  Agrium Kenai Nitrogen Operations  60.673200   \n",
       "2            3       AK                          Alakanuk  62.683300   \n",
       "3            4       AK               Allison Creek Hydro  61.084444   \n",
       "4            5       AK                            Ambler  67.087980   \n",
       "...        ...      ...                               ...        ...   \n",
       "9704      9705       WY   Western Sugar Coop - Torrington  42.046900   \n",
       "9705      9706       WY                           Wygen I  44.285800   \n",
       "9706      9707       WY                          Wygen II  44.291900   \n",
       "9707      9708       WY                         Wygen III  44.291900   \n",
       "9708      9709       WY                            Wyodak  44.290128   \n",
       "\n",
       "             LON PLPRMFL   CAPFAC  NAMEPCAP     PLNGENAN     PLCO2EQA  \n",
       "0    -143.247156     WND      NaN       1.8          NaN          NaN  \n",
       "1    -151.378400      NG      NaN      21.6          NaN          NaN  \n",
       "2    -164.654400     DFO  0.05326       2.6     1213.001     1049.863  \n",
       "3    -146.353333     WAT  0.01547       6.5      881.000        0.000  \n",
       "4    -157.856719     DFO  0.13657       1.1     1315.999     1087.881  \n",
       "...          ...     ...      ...       ...          ...          ...  \n",
       "9704 -104.186300      NG  0.39348       2.0     6893.790     2377.683  \n",
       "9705 -105.383300     SUB  0.90122      90.0   710524.000   926215.622  \n",
       "9706 -105.381100     SUB  0.88242      95.0   734354.000   909354.797  \n",
       "9707 -105.380600     SUB  0.80863     116.0   821699.000   975147.426  \n",
       "9708 -105.381482     SUB  0.58351     402.3  2056358.000  2708379.819  \n",
       "\n",
       "[9709 rows x 10 columns]"
      ]
     },
     "execution_count": 175,
     "metadata": {},
     "output_type": "execute_result"
    }
   ],
   "source": [
    "import numpy as np\n",
    "import pandas\n",
    "from pathlib import Path\n",
    "\n",
    "file_path = Path('.').resolve() / 'data' / 'a1_egrid2016.xlsx'\n",
    "print(file_path)\n",
    "egrid = pandas.read_excel(file_path, header=1)\n",
    "\n",
    "egrid"
   ]
  },
  {
   "cell_type": "code",
   "execution_count": 171,
   "metadata": {},
   "outputs": [
    {
     "name": "stdout",
     "output_type": "stream",
     "text": [
      "Plant that generated the most energy: Palo Verde\n",
      "Energy generated: 32,377,476.999 MWh\n"
     ]
    },
    {
     "data": {
      "text/html": [
       "<div>\n",
       "<style scoped>\n",
       "    .dataframe tbody tr th:only-of-type {\n",
       "        vertical-align: middle;\n",
       "    }\n",
       "\n",
       "    .dataframe tbody tr th {\n",
       "        vertical-align: top;\n",
       "    }\n",
       "\n",
       "    .dataframe thead th {\n",
       "        text-align: right;\n",
       "    }\n",
       "</style>\n",
       "<table border=\"1\" class=\"dataframe\">\n",
       "  <thead>\n",
       "    <tr style=\"text-align: right;\">\n",
       "      <th></th>\n",
       "      <th>PNAME</th>\n",
       "      <th>PLNGENAN</th>\n",
       "    </tr>\n",
       "  </thead>\n",
       "  <tbody>\n",
       "    <tr>\n",
       "      <th>390</th>\n",
       "      <td>Palo Verde</td>\n",
       "      <td>3.237748e+07</td>\n",
       "    </tr>\n",
       "  </tbody>\n",
       "</table>\n",
       "</div>"
      ],
      "text/plain": [
       "          PNAME      PLNGENAN\n",
       "390  Palo Verde  3.237748e+07"
      ]
     },
     "execution_count": 171,
     "metadata": {},
     "output_type": "execute_result"
    }
   ],
   "source": [
    "# (a) Which plant has generated the most energy (measured in MWh)?\n",
    "\n",
    "i, _ = np.where(egrid.values == egrid['PLNGENAN'].max())\n",
    "plant_most_energy = egrid.iloc[i]\n",
    "\n",
    "print(f'Plant that generated the most energy: {plant_most_energy['PNAME'].values[0]}')\n",
    "print(f'Energy generated: {plant_most_energy['PLNGENAN'].values[0]:,} MWh')\n",
    "\n",
    "pandas.concat(\n",
    "    [\n",
    "        plant_most_energy['PNAME'],\n",
    "        plant_most_energy['PLNGENAN'],\n",
    "    ],\n",
    "    axis = 1\n",
    ")"
   ]
  },
  {
   "cell_type": "code",
   "execution_count": 176,
   "metadata": {},
   "outputs": [
    {
     "name": "stdout",
     "output_type": "stream",
     "text": [
      "Northernmost plant: Barrow\n",
      "Latitude: 71.292°N\n"
     ]
    },
    {
     "data": {
      "text/html": [
       "<div>\n",
       "<style scoped>\n",
       "    .dataframe tbody tr th:only-of-type {\n",
       "        vertical-align: middle;\n",
       "    }\n",
       "\n",
       "    .dataframe tbody tr th {\n",
       "        vertical-align: top;\n",
       "    }\n",
       "\n",
       "    .dataframe thead th {\n",
       "        text-align: right;\n",
       "    }\n",
       "</style>\n",
       "<table border=\"1\" class=\"dataframe\">\n",
       "  <thead>\n",
       "    <tr style=\"text-align: right;\">\n",
       "      <th></th>\n",
       "      <th>PNAME</th>\n",
       "      <th>LAT</th>\n",
       "    </tr>\n",
       "  </thead>\n",
       "  <tbody>\n",
       "    <tr>\n",
       "      <th>11</th>\n",
       "      <td>Barrow</td>\n",
       "      <td>71.292</td>\n",
       "    </tr>\n",
       "  </tbody>\n",
       "</table>\n",
       "</div>"
      ],
      "text/plain": [
       "     PNAME     LAT\n",
       "11  Barrow  71.292"
      ]
     },
     "execution_count": 176,
     "metadata": {},
     "output_type": "execute_result"
    }
   ],
   "source": [
    "# (b) What is the name of the northern-most power plant in the United States?\n",
    "\n",
    "i, _ = np.where(egrid.values == egrid['LAT'].max())\n",
    "plant_most_north = egrid.iloc[i]\n",
    "\n",
    "print(f'Northernmost plant: {plant_most_north['PNAME'].values[0]}')\n",
    "print(f'Latitude: {plant_most_north['LAT'].values[0]}°N')\n",
    "\n",
    "pandas.concat(\n",
    "    [\n",
    "        plant_most_north['PNAME'],\n",
    "        plant_most_north['LAT'],\n",
    "    ],\n",
    "    axis = 1\n",
    ")"
   ]
  },
  {
   "cell_type": "code",
   "execution_count": 177,
   "metadata": {},
   "outputs": [
    {
     "name": "stdout",
     "output_type": "stream",
     "text": [
      "The northern-most power plant in the US, Barrow, is in AK.\n"
     ]
    }
   ],
   "source": [
    "# (c) What is the state where the northern-most power plant in the United States is located?\n",
    "\n",
    "name = plant_most_north['PNAME'].values[0]\n",
    "state = plant_most_north['PSTATABB'].values[0]\n",
    "\n",
    "print(f'The northern-most power plant in the US, {name}, is in {state}.')"
   ]
  },
  {
   "cell_type": "code",
   "execution_count": 167,
   "metadata": {},
   "outputs": [
    {
     "data": {
      "image/png": "[encoded data removed]",
      "text/plain": [
       "<Figure size 640x480 with 1 Axes>"
      ]
     },
     "metadata": {},
     "output_type": "display_data"
    }
   ],
   "source": [
    "# (d) Plot a bar plot showing the amount of energy produced by \n",
    "# each fuel type across all plants.\n",
    "\n",
    "from matplotlib import pyplot as plt\n",
    "\n",
    "name_and_fuel = pandas.concat(\n",
    "    [egrid['PLPRMFL'], egrid['PLNGENAN'], egrid['PNAME']],\n",
    "    axis = 1\n",
    ")\n",
    "\n",
    "# Thanks, Kagi AI for help on this one!\n",
    "g = name_and_fuel.groupby('PLPRMFL')[['PLNGENAN']].sum()\n",
    "\n",
    "p = g.plot.bar(\n",
    "    xlabel = 'Fuel type',\n",
    "    ylabel = 'Energy produced (MWh)',\n",
    ")\n",
    "plt.title(\"Amount of energy produced by fuel type\")\n",
    "plt.show()"
   ]
  },
  {
   "cell_type": "code",
   "execution_count": 165,
   "metadata": {},
   "outputs": [
    {
     "name": "stdout",
     "output_type": "stream",
     "text": [
      "Natural gas.\n"
     ]
    },
    {
     "data": {
      "text/html": [
       "<div>\n",
       "<style scoped>\n",
       "    .dataframe tbody tr th:only-of-type {\n",
       "        vertical-align: middle;\n",
       "    }\n",
       "\n",
       "    .dataframe tbody tr th {\n",
       "        vertical-align: top;\n",
       "    }\n",
       "\n",
       "    .dataframe thead th {\n",
       "        text-align: right;\n",
       "    }\n",
       "</style>\n",
       "<table border=\"1\" class=\"dataframe\">\n",
       "  <thead>\n",
       "    <tr style=\"text-align: right;\">\n",
       "      <th></th>\n",
       "      <th>PLNGENAN</th>\n",
       "    </tr>\n",
       "    <tr>\n",
       "      <th>PLPRMFL</th>\n",
       "      <th></th>\n",
       "    </tr>\n",
       "  </thead>\n",
       "  <tbody>\n",
       "    <tr>\n",
       "      <th>NG</th>\n",
       "      <td>1.314956e+09</td>\n",
       "    </tr>\n",
       "  </tbody>\n",
       "</table>\n",
       "</div>"
      ],
      "text/plain": [
       "             PLNGENAN\n",
       "PLPRMFL              \n",
       "NG       1.314956e+09"
      ]
     },
     "execution_count": 165,
     "metadata": {},
     "output_type": "execute_result"
    }
   ],
   "source": [
    "# (e) From the plot in (d), which fuel for generation produces the most \n",
    "# energy (MWh) in the United States?\n",
    "\n",
    "print(\"Natural gas.\")\n",
    "\n",
    "i, _ = np.where(g.values == g['PLNGENAN'].max())\n",
    "g.iloc[i]"
   ]
  },
  {
   "cell_type": "markdown",
   "metadata": {},
   "source": [
    "## 8\n",
    "\n",
    "**[6 points] Vectorization.** \n",
    "\n",
    "When we first learn to code and think about iterating over an array, we often use loops. If implemented correctly, that does the trick. In machine learning, we iterate over so much data that those loops can lead to significant slow downs if they are not computationally efficient. In Python, vectorizing code and relying on matrix operations with efficient tools like numpy is typically the faster approach. Of course, numpy relies on loops to complete the computation, but this is at a lower level of programming (typically in C), and therefore is much more efficient. This exercise will explore the benefits of vectorization. Since many machine learning techniques rely on matrix operations, it's helpful to begin thinking about implementing algorithms using vector forms.\n",
    "\n",
    "Begin by creating an array of 1 million random numbers using the numpy `random.randn` module. Compute the sum of the squares of those random numbers first in a for loop, then using Numpy's `dot` module to perform an inner (dot) product. Time how long it takes to compute each and report the results and report the output. How many times faster is the vectorized code than the for loop approach? (Note - your results may vary from run to run).\n",
    "\n",
    "Your output should use the `print()` function as follows (where the # symbols represent your answers, to a reasonable precision of 4-5 significant figures):\n",
    "\n",
    "`Time [sec] (non-vectorized): ######`\n",
    "\n",
    "`Time [sec] (vectorized):     ######`\n",
    "\n",
    "`The vectorized code is ##### times faster than the nonvectorized code`"
   ]
  },
  {
   "cell_type": "markdown",
   "metadata": {},
   "source": [
    "**ANSWER**"
   ]
  },
  {
   "cell_type": "code",
   "execution_count": 290,
   "metadata": {},
   "outputs": [
    {
     "name": "stdout",
     "output_type": "stream",
     "text": [
      "Time [sec] (non-vectorized): 0.16566\n",
      "Time [sec] (vectorized):     0.00029\n",
      "The vectorized code is 573.28 times faster than the non-vectorized code.\n"
     ]
    }
   ],
   "source": [
    "import numpy as np\n",
    "from numpy.random import randn\n",
    "import time\n",
    "\n",
    "numbers = randn(1000000)\n",
    "\n",
    "# For loop\n",
    "for_start = time.time()\n",
    "rt = 0\n",
    "for n in numbers:\n",
    "    rt += n**2\n",
    "for_end = time.time()\n",
    "for_duration = for_end - for_start\n",
    "\n",
    "print(f'Time [sec] (non-vectorized): {for_duration:.5f}')\n",
    "\n",
    "\n",
    "# Numpy `dot`\n",
    "dot_start = time.time()\n",
    "dt = np.dot(numbers, numbers)\n",
    "dot_end = time.time()\n",
    "dot_duration = dot_end - dot_start\n",
    "\n",
    "print(f'Time [sec] (vectorized):     {dot_duration:.5f}')\n",
    "\n",
    "\n",
    "print(f'The vectorized code is {for_duration / dot_duration:.2f} times faster than the non-vectorized code.')"
   ]
  },
  {
   "cell_type": "markdown",
   "metadata": {},
   "source": [
    "## 9\n",
    "\n",
    "**[10 points]**\n",
    "\n",
    "This exercise will walk through some basic numerical programming and probabilistic thinking exercises, two skills which are frequently used in machine learning for answering questions from our data.\n",
    "\n",
    "1. Synthesize $n=10^4$ normally distributed data points with mean $\\mu=2$ and a standard deviation of $\\sigma=1$. Call these observations from a random variable $X$, and call the vector of observations that you generate, $\\textbf{x}$.\n",
    "2. Calculate the mean and standard deviation of $\\textbf{x}$ to validate (1) and provide the result to a precision of four significant figures.\n",
    "3. Plot a histogram of the data in $\\textbf{x}$ with 30 bins.\n",
    "4. What is the 90th percentile of $\\textbf{x}$? The 90th percentile is the value below which 90% of observations can be found.\n",
    "5. What is the 99th percentile of $\\textbf{x}$?\n",
    "6. Now synthesize $n=10^4$ normally distributed data points with mean $\\mu=0$ and a standard deviation of $\\sigma=3$. Call these observations from a random variable $Y$, and call the vector of observations that you generate, $\\textbf{y}$.\n",
    "7. Create a new figure and plot the histogram of the data in $\\textbf{y}$ on the same axes with the histogram of $\\textbf{x}$, so that both histograms can be seen and compared.\n",
    "8. Using the observations from $\\textbf{x}$ and $\\textbf{y}$, estimate $E[XY]$"
   ]
  },
  {
   "cell_type": "markdown",
   "metadata": {},
   "source": [
    "**ANSWER**"
   ]
  },
  {
   "cell_type": "code",
   "execution_count": 309,
   "metadata": {},
   "outputs": [
    {
     "data": {
      "text/plain": [
       "array([2.27152136, 1.77679399, 2.11883725, ..., 1.1416546 , 1.47117098,\n",
       "       0.62984641], shape=(10000,))"
      ]
     },
     "execution_count": 309,
     "metadata": {},
     "output_type": "execute_result"
    }
   ],
   "source": [
    "# PART 1\n",
    "# ------\n",
    "# Synthesize n=10^4 normally distributed data points with mean μ=2 and a standard deviation of \n",
    "# σ=1. Call these observations from a random variable X, and call the vector of observations\n",
    "# that you generate, **x**.\n",
    "\n",
    "import numpy as np\n",
    "\n",
    "x = np.random.normal(2, 1, 10**4)\n",
    "x"
   ]
  },
  {
   "cell_type": "code",
   "execution_count": 311,
   "metadata": {},
   "outputs": [
    {
     "name": "stdout",
     "output_type": "stream",
     "text": [
      "Mean: 1.9814\n",
      "Standard deviation: 1.0034\n"
     ]
    }
   ],
   "source": [
    "# PART 2\n",
    "# ------\n",
    "# Calculate the mean and standard deviation of **x** to validate (1) and provide the\n",
    "# result to a precision of four significant figures.\n",
    "\n",
    "print(f'Mean: {np.mean(x):.4f}')\n",
    "print(f'Standard deviation: {np.std(x):.4f}')"
   ]
  },
  {
   "cell_type": "code",
   "execution_count": 325,
   "metadata": {},
   "outputs": [
    {
     "data": {
      "image/png": "[encoded data removed]",
      "text/plain": [
       "<Figure size 640x480 with 1 Axes>"
      ]
     },
     "metadata": {},
     "output_type": "display_data"
    }
   ],
   "source": [
    "# PART 3\n",
    "# ------\n",
    "# Plot a histogram of the data in **x** with 30 bins.\n",
    "\n",
    "from matplotlib import pyplot as plt\n",
    "\n",
    "x_counts, x_bins = np.histogram(x, bins=30)\n",
    "plt.stairs(x_counts, x_bins, color=\"red\")\n",
    "plt.show()"
   ]
  },
  {
   "cell_type": "code",
   "execution_count": 319,
   "metadata": {},
   "outputs": [
    {
     "name": "stdout",
     "output_type": "stream",
     "text": [
      "90th percentile: 3.2831\n"
     ]
    }
   ],
   "source": [
    "# PARTS 4 and 5\n",
    "# -------------\n",
    "# What is the 90th percentile of **x**? The 90th percentile is the value below which 90%\n",
    "# of observations can be found.\n",
    "\n",
    "print(f'90th percentile: {np.percentile(x, 90):.4f}')"
   ]
  },
  {
   "cell_type": "code",
   "execution_count": 322,
   "metadata": {},
   "outputs": [
    {
     "name": "stdout",
     "output_type": "stream",
     "text": [
      "99th percentile: 4.3287\n"
     ]
    }
   ],
   "source": [
    "# PART 5\n",
    "# ------\n",
    "# What is the 99th percentile of **x**?\n",
    "\n",
    "print(f'99th percentile: {np.percentile(x, 99):.4f}')"
   ]
  },
  {
   "cell_type": "code",
   "execution_count": 323,
   "metadata": {},
   "outputs": [
    {
     "data": {
      "text/plain": [
       "array([-2.28083019,  0.10345722,  6.90833581, ..., -1.82159521,\n",
       "       -1.7233971 , -4.74541568], shape=(10000,))"
      ]
     },
     "execution_count": 323,
     "metadata": {},
     "output_type": "execute_result"
    }
   ],
   "source": [
    "# PART 6\n",
    "# ------\n",
    "# Now synthesize $n=10^4$ normally distributed data points with mean μ=0 and a standard\n",
    "# deviation of σ=3. Call these observations from a random variable Y, and call the\n",
    "# vector of observations that you generate, **y**.\n",
    "\n",
    "y = np.random.normal(0, 3, 10**4)\n",
    "y"
   ]
  },
  {
   "cell_type": "code",
   "execution_count": 327,
   "metadata": {},
   "outputs": [
    {
     "data": {
      "image/png": "[encoded data removed]",
      "text/plain": [
       "<Figure size 640x480 with 1 Axes>"
      ]
     },
     "metadata": {},
     "output_type": "display_data"
    }
   ],
   "source": [
    "# PART 7\n",
    "# ------\n",
    "# Create a new figure and plot the histogram of the data in **y** on the same axes with\n",
    "# the histogram of **x**, so that both histograms can be seen and compared.\n",
    "\n",
    "y_counts, y_bins = np.histogram(y, bins=30)\n",
    "plt.stairs(x_counts, x_bins, color=\"red\")\n",
    "plt.stairs(y_counts, y_bins, color=\"blue\")\n",
    "plt.show()"
   ]
  },
  {
   "cell_type": "markdown",
   "metadata": {},
   "source": [
    "#### Part 8\n",
    "\n",
    "> Using the observations from $\\textbf{x}$ and $\\textbf{y}$, estimate $E[XY]$\n",
    "\n",
    "Assuming both $X$ and $Y$ are independent, and that $E[XY]$ is the expected value of both $X$ and $Y$, and thus a sum, we can estimate $E[XY]$ by first defining a new random variable $Z=X+Y$ and rewriting $E[XY] = E[Z]$. \n",
    "\n",
    "$\\textbf{z}$ is the vector of observations of both $\\textbf{x}$ and $\\textbf{y}$ and is shown on the histogram in green."
   ]
  },
  {
   "cell_type": "code",
   "execution_count": 348,
   "metadata": {},
   "outputs": [
    {
     "data": {
      "image/png": "[encoded data removed]",
      "text/plain": [
       "<Figure size 640x480 with 1 Axes>"
      ]
     },
     "metadata": {},
     "output_type": "display_data"
    }
   ],
   "source": [
    "z = x+y\n",
    "z_counts, z_bins = np.histogram(z, bins=30)\n",
    "plt.stairs(x_counts, x_bins, color=\"red\")\n",
    "plt.stairs(y_counts, y_bins, color=\"blue\")\n",
    "plt.stairs(z_counts, z_bins, color=\"green\")\n",
    "plt.show()"
   ]
  },
  {
   "cell_type": "markdown",
   "metadata": {},
   "source": [
    "Because the \"expected value\" is just the sample mean $\\bar z$, we can simply take the mean of \n",
    "the random samples of $Z$ stored in $\\textbf{z}$."
   ]
  },
  {
   "cell_type": "code",
   "execution_count": 347,
   "metadata": {},
   "outputs": [
    {
     "name": "stdout",
     "output_type": "stream",
     "text": [
      "E[XY]: 1.970335\n"
     ]
    }
   ],
   "source": [
    "z_bar = np.mean(z)\n",
    "print(f'E[XY]: {z_bar:.6f}')"
   ]
  },
  {
   "cell_type": "markdown",
   "metadata": {},
   "source": [
    "# Version Control via Git"
   ]
  },
  {
   "cell_type": "markdown",
   "metadata": {},
   "source": [
    "## 10\n",
    "**[4 points]** Git is efficient for collaboration, and expectation in industry, and one of the best ways to share results in academia. You can even use some Git repositories (e.g. Github) as hosts for website, such as with the [course website](https://kylebradbury.github.io/ids705/index.html). As a data scientist with experience in machine learning, Git is expected. We will interact with Git repositories (a.k.a. repos) throughout this course, and your project will require the use of git repos for collaboration.\n",
    "\n",
    "Complete the [Atlassian Git tutorial](https://www.atlassian.com/git/tutorials/what-is-version-control), specifically the following listed sections. Try each concept that's presented. For this tutorial, instead of using BitBucket as your remote repository host, you may use your preferred platform such as [Github](https://github.com/) or [Duke's Gitlab](https://gitlab.oit.duke.edu/users/sign_in).\n",
    "1. [What is version control](https://www.atlassian.com/git/tutorials/what-is-version-control)\n",
    "2. [What is Git](https://www.atlassian.com/git/tutorials/what-is-git)\n",
    "3. [Install Git](https://www.atlassian.com/git/tutorials/install-git)\n",
    "4. [Setting up a repository](https://www.atlassian.com/git/tutorials/install-git)\n",
    "5. [Saving changes](https://www.atlassian.com/git/tutorials/saving-changes)\n",
    "6. [Inspecting a repository](https://www.atlassian.com/git/tutorials/inspecting-a-repository)\n",
    "7. [Undoing changes](https://www.atlassian.com/git/tutorials/undoing-changes)\n",
    "8. [Rewriting history](https://www.atlassian.com/git/tutorials/rewriting-history)\n",
    "9. [Syncing](https://www.atlassian.com/git/tutorials/syncing)\n",
    "10. [Making a pull request](https://www.atlassian.com/git/tutorials/making-a-pull-request)\n",
    "11. [Using branches](https://www.atlassian.com/git/tutorials/using-branches)\n",
    "12. [Comparing workflows](https://www.atlassian.com/git/tutorials/comparing-workflows)\n",
    "\n",
    "I also have created two videos on the topic to help you understand some of these concepts: [Git basics](https://www.youtube.com/watch?v=fBCwfoBr2ng) and a [step-by-step tutorial](https://www.youtube.com/watch?v=nH7qJHx-h5s).\n",
    "\n",
    "For your answer, affirm that you *either* completed the tutorials above OR have previous experience with ALL of the concepts above. Confirm this by typing your name below and selecting the situation that applies from the two options in brackets."
   ]
  },
  {
   "cell_type": "markdown",
   "metadata": {},
   "source": [
    "**ANSWER**\n",
    "\n",
    "I, Noah S. Roberts, affirm that I have previous experience that covers all the content in this tutorial. I have numerous solo projects and a handful of group projects that have exposed and trained me in the ways of Git.\n",
    "\n",
    "That Atlassian tutorial is handy though. "
   ]
  },
  {
   "cell_type": "markdown",
   "metadata": {},
   "source": [
    "# Exploratory Data Analysis\n",
    "\n",
    "## 11\n",
    "\n",
    "**[20 points]** \n",
    "\n",
    "Here you'll bring together some of the individual skills that you demonstrated above and create a Jupyter notebook based blog post on your exploratory data analysis. Your goal is to identify a question or problem and to work towards solving it or providing additional information or evidence (data) related to it through your data analysis. Below, we walk through a process to follow for your analysis. Additionally, you can find an [example of a well-done exploratory data analysis here from past years](https://github.com/kylebradbury/ids705/blob/master/assignments/Assignment_1_Q11_Example.ipynb).\n",
    "\n",
    "1. Find a dataset that interests you and relates to a question or problem that you find intriguing.\n",
    "2. Describe the dataset, the source of the data, and the reason the dataset was of interest. What question are you hoping to answer through exploring the dataset?\n",
    "3. Check the data and see if they need to be cleaned: are there missing values? Are there clearly erroneous values? Do two tables need to be merged together? Clean the data so it can be visualized. If the data are clean, state how you know they are clean (what did you check?).\n",
    "3. Plot the data, demonstrating interesting features that you discover. Are there any relationships between variables that were surprising or patterns that emerged? Please exercise creativity and curiosity in your plots. You should have at least a ~3 plots exploring the data in different ways.\n",
    "4. What insights are you able to take away from exploring the data? Is there a reason why analyzing the dataset you chose is particularly interesting or important? Summarize this for a general audience (imagine your publishing a blog post online) - boil down your findings in a way that is accessible, but still accurate.\n",
    "\n",
    "Here your analysis will evaluated based on:\n",
    "\n",
    "1. Motivation: was the purpose of the choice of data clearly articulated? Why was the dataset chosen and what was the goal of the analysis?\n",
    "2. Data cleaning: were any issues with the data investigated and, if found, were they resolved?\n",
    "3. Quality of data exploration: were at least 4 unique plots (minimum) included and did those plots demonstrate interesting aspects of the data? Was there a clear purpose and takeaway from EACH plot? \n",
    "4. Interpretation: Were the insights revealed through the analysis and their potential implications clearly explained? Was there an overall conclusion to the analysis?"
   ]
  },
  {
   "cell_type": "markdown",
   "metadata": {},
   "source": [
    "**ANSWER**"
   ]
  },
  {
   "cell_type": "markdown",
   "metadata": {},
   "source": [
    "I did not have time to get to this. I will try to work on it this week."
   ]
  }
 ],
 "metadata": {
  "kernelspec": {
   "display_name": "Python 3 (ipykernel)",
   "language": "python",
   "name": "python3"
  },
  "language_info": {
   "codemirror_mode": {
    "name": "ipython",
    "version": 3
   },
   "file_extension": ".py",
   "mimetype": "text/x-python",
   "name": "python",
   "nbconvert_exporter": "python",
   "pygments_lexer": "ipython3",
   "version": "3.13.5"
  },
  "nteract": {
   "version": "0.28.0"
  },
  "varInspector": {
   "cols": {
    "lenName": 16,
    "lenType": 16,
    "lenVar": 40
   },
   "kernels_config": {
    "python": {
     "delete_cmd_postfix": "",
     "delete_cmd_prefix": "del ",
     "library": "var_list.py",
     "varRefreshCmd": "print(var_dic_list())"
    },
    "r": {
     "delete_cmd_postfix": ") ",
     "delete_cmd_prefix": "rm(",
     "library": "var_list.r",
     "varRefreshCmd": "cat(var_dic_list()) "
    }
   },
   "position": {
    "height": "643px",
    "left": "1548px",
    "right": "20px",
    "top": "121px",
    "width": "350px"
   },
   "types_to_exclude": [
    "module",
    "function",
    "builtin_function_or_method",
    "instance",
    "_Feature"
   ],
   "window_display": true
  }
 },
 "nbformat": 4,
 "nbformat_minor": 4
}
